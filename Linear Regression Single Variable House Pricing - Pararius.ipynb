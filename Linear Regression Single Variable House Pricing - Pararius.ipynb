{
 "cells": [
  {
   "cell_type": "code",
   "execution_count": 1,
   "metadata": {},
   "outputs": [],
   "source": [
    "import numpy as np\n",
    "import matplotlib.pyplot as plt\n",
    "import pandas as pd\n",
    "import math\n",
    "import seaborn as sns\n",
    "import requests\n",
    "from pandas.io.json import json_normalize\n",
    "from sklearn import linear_model\n",
    "from scipy.stats import norm"
   ]
  },
  {
   "cell_type": "code",
   "execution_count": 2,
   "metadata": {},
   "outputs": [
    {
     "data": {
      "text/html": [
       "<div>\n",
       "<style scoped>\n",
       "    .dataframe tbody tr th:only-of-type {\n",
       "        vertical-align: middle;\n",
       "    }\n",
       "\n",
       "    .dataframe tbody tr th {\n",
       "        vertical-align: top;\n",
       "    }\n",
       "\n",
       "    .dataframe thead th {\n",
       "        text-align: right;\n",
       "    }\n",
       "</style>\n",
       "<table border=\"1\" class=\"dataframe\">\n",
       "  <thead>\n",
       "    <tr style=\"text-align: right;\">\n",
       "      <th></th>\n",
       "      <th>area</th>\n",
       "      <th>bedroom</th>\n",
       "      <th>price</th>\n",
       "    </tr>\n",
       "  </thead>\n",
       "  <tbody>\n",
       "    <tr>\n",
       "      <th>136</th>\n",
       "      <td>45</td>\n",
       "      <td>1</td>\n",
       "      <td>1400</td>\n",
       "    </tr>\n",
       "    <tr>\n",
       "      <th>137</th>\n",
       "      <td>55</td>\n",
       "      <td>1</td>\n",
       "      <td>1400</td>\n",
       "    </tr>\n",
       "    <tr>\n",
       "      <th>138</th>\n",
       "      <td>88</td>\n",
       "      <td>2</td>\n",
       "      <td>1600</td>\n",
       "    </tr>\n",
       "  </tbody>\n",
       "</table>\n",
       "</div>"
      ],
      "text/plain": [
       "     area  bedroom  price\n",
       "136    45        1   1400\n",
       "137    55        1   1400\n",
       "138    88        2   1600"
      ]
     },
     "execution_count": 2,
     "metadata": {},
     "output_type": "execute_result"
    }
   ],
   "source": [
    "# Get authorization\n",
    "\n",
    "# Fetch records \n",
    "url = 'https://d0b77340-7ed9-4ca4-9a35-2cbec92e73b1.app.jexia.com/ds/homeprices_training_data'\n",
    "headers = {'Content-Type': 'application/json',\n",
    "          'Authorization':''}\n",
    "r = requests.get(url, headers = headers)\n",
    "\n",
    "# Load training data\n",
    "training_data = json_normalize(r.json())\n",
    "training_data = training_data.drop(['id','created_at', 'updated_at'], axis = 1) \n",
    "\n",
    "# Remove outliers\n",
    "training_data = training_data[\n",
    "    (training_data.price > 0) \n",
    "    & (training_data.price < 2500) \n",
    "    & (training_data.area > 0)\n",
    "    & (training_data.area < 200)]\n",
    "\n",
    "training_data.tail(3)"
   ]
  },
  {
   "cell_type": "code",
   "execution_count": 3,
   "metadata": {},
   "outputs": [
    {
     "data": {
      "text/html": [
       "<div>\n",
       "<style scoped>\n",
       "    .dataframe tbody tr th:only-of-type {\n",
       "        vertical-align: middle;\n",
       "    }\n",
       "\n",
       "    .dataframe tbody tr th {\n",
       "        vertical-align: top;\n",
       "    }\n",
       "\n",
       "    .dataframe thead th {\n",
       "        text-align: right;\n",
       "    }\n",
       "</style>\n",
       "<table border=\"1\" class=\"dataframe\">\n",
       "  <thead>\n",
       "    <tr style=\"text-align: right;\">\n",
       "      <th></th>\n",
       "      <th>est_int</th>\n",
       "      <th>coefs</th>\n",
       "    </tr>\n",
       "  </thead>\n",
       "  <tbody>\n",
       "    <tr>\n",
       "      <th>0</th>\n",
       "      <td>area</td>\n",
       "      <td>0.966537</td>\n",
       "    </tr>\n",
       "    <tr>\n",
       "      <th>1</th>\n",
       "      <td>bedroom</td>\n",
       "      <td>0.033463</td>\n",
       "    </tr>\n",
       "  </tbody>\n",
       "</table>\n",
       "</div>"
      ],
      "text/plain": [
       "   est_int     coefs\n",
       "0     area  0.966537\n",
       "1  bedroom  0.033463"
      ]
     },
     "execution_count": 3,
     "metadata": {},
     "output_type": "execute_result"
    }
   ],
   "source": [
    "# Feature importance (by Random Forest Regressor)\n",
    "from sklearn.model_selection import train_test_split\n",
    "from sklearn.metrics import r2_score\n",
    "from sklearn.metrics import mean_squared_error\n",
    "from sklearn.ensemble import RandomForestRegressor\n",
    "\n",
    "y = training_data['price']\n",
    "x = training_data.drop('price', axis =1)\n",
    "X_train, X_test, y_train, y_test = train_test_split(x, y, test_size = 0.25, random_state=1)\n",
    "rf = RandomForestRegressor(n_estimators=500, \n",
    "                               criterion='mse', \n",
    "                               random_state=3, \n",
    "                               n_jobs=-1)\n",
    "rf.fit(X_train, y_train)\n",
    "# y_train_pred = rf.predict(X_train)\n",
    "# y_test_pred = rf.predict(X_test)\n",
    "# rmse_rf= (mean_squared_error(y_test,y_test_pred))**(1/2)\n",
    "\n",
    "# print('RMSE test: %.3f' % rmse_rf)\n",
    "# print('R^2 test: %.3f' % (r2_score(y_test, y_test_pred)))\n",
    "\n",
    "coefs_df = pd.DataFrame()\n",
    "coefs_df['est_int'] = X_train.columns\n",
    "coefs_df['coefs'] = rf.feature_importances_\n",
    "coefs_df.sort_values('coefs', ascending=False).head(20)\n"
   ]
  },
  {
   "cell_type": "code",
   "execution_count": 4,
   "metadata": {},
   "outputs": [
    {
     "data": {
      "text/plain": [
       "<matplotlib.collections.PathCollection at 0x1a1c06b518>"
      ]
     },
     "execution_count": 4,
     "metadata": {},
     "output_type": "execute_result"
    },
    {
     "data": {
      "image/png": "[encoded data removed]",
      "text/plain": [
       "<Figure size 432x288 with 1 Axes>"
      ]
     },
     "metadata": {},
     "output_type": "display_data"
    }
   ],
   "source": [
    "# Plot training data\n",
    "%matplotlib inline\n",
    "plt.xlabel('area (m2)', fontsize=20)\n",
    "plt.ylabel('price(€)', fontsize=20)\n",
    "plt.scatter(training_data.area, training_data.price, color='red', marker='+')\n",
    "# plt.plot(training_data.area, training_data.price, color='blue')\n"
   ]
  },
  {
   "cell_type": "code",
   "execution_count": 5,
   "metadata": {},
   "outputs": [
    {
     "name": "stdout",
     "output_type": "stream",
     "text": [
      "Total: 89\n"
     ]
    },
    {
     "data": {
      "image/png": "[encoded data removed]",
      "text/plain": [
       "<Figure size 432x288 with 1 Axes>"
      ]
     },
     "metadata": {},
     "output_type": "display_data"
    }
   ],
   "source": [
    "# Plot Median Values for price\n",
    "price_array = np.array(training_data.price)\n",
    "\n",
    "df = pd.DataFrame(price_array, columns=['price'])\n",
    "df.plot.box(grid=True)\n",
    "print('Total: %i' % df['price'].count())\n",
    "\n",
    "# Median\n",
    "# The median is the value separating the higher half of a data sample, a population, or a probability distribution, from the lower half. \n",
    "\n",
    "# Quartile\n",
    "# The first quartile is defined as the middle number between the smallest number and the median of the data set. The second quartile is the median of the data. The third quartile is the middle value between the median and the highest value of the data set."
   ]
  },
  {
   "cell_type": "code",
   "execution_count": 6,
   "metadata": {},
   "outputs": [
    {
     "data": {
      "image/png": "[encoded data removed]",
      "text/plain": [
       "<Figure size 432x288 with 1 Axes>"
      ]
     },
     "metadata": {},
     "output_type": "display_data"
    }
   ],
   "source": [
    "# Plot normal distribution\n",
    "df.plot(kind='hist', density=True)\n",
    "\n",
    "x = np.linspace(0, df.max())\n",
    "plt.plot(x, norm.pdf(x, np.mean(price_array), np.std(price_array)))\n",
    "plt.show()"
   ]
  },
  {
   "cell_type": "code",
   "execution_count": 7,
   "metadata": {},
   "outputs": [
    {
     "data": {
      "image/png": "[encoded data removed]",
      "text/plain": [
       "<Figure size 540x540 with 12 Axes>"
      ]
     },
     "metadata": {},
     "output_type": "display_data"
    }
   ],
   "source": [
    "# Explore features together\n",
    "features = ['bedroom', 'area']\n",
    "sns.set(style=\"ticks\", color_codes=True)\n",
    "sns.pairplot(training_data)\n",
    "plt.show();"
   ]
  },
  {
   "cell_type": "code",
   "execution_count": 8,
   "metadata": {},
   "outputs": [
    {
     "data": {
      "text/plain": [
       "LinearRegression(copy_X=True, fit_intercept=True, n_jobs=1, normalize=False)"
      ]
     },
     "execution_count": 8,
     "metadata": {},
     "output_type": "execute_result"
    }
   ],
   "source": [
    "# Training linear regression model with 'area' training data points\n",
    "reg = linear_model.LinearRegression()\n",
    "reg.fit(training_data[['area']], training_data.price)"
   ]
  },
  {
   "cell_type": "code",
   "execution_count": 9,
   "metadata": {},
   "outputs": [
    {
     "name": "stdout",
     "output_type": "stream",
     "text": [
      "A house with 100 m2 can be rent for € 1956\n"
     ]
    }
   ],
   "source": [
    "# Predict price according single m2 (x area)\n",
    "\n",
    "# In regression problems we trying to predict continuous valued output.\n",
    "# Linear regression is used to predict a quantitative response Y from the predictor variable X.\n",
    "# Linear Regression is made with an assumption that there’s a linear relationship between X and Y.\n",
    "# We know the given eqaution y=mx+b represents a straight line with slope m and the y intercept b.\n",
    "# y=m*x+b\n",
    "\n",
    "# \"m\" represents the \"slope\" of the line. This is rise/run. \n",
    "# reg.coef_\n",
    "\n",
    "# \"b\" represents the \"y-intercept\" of the line. This is where the line cross es the y-axis (the part of the coordinate grid that goes up and down).\n",
    "# reg.intercept_\n",
    "\n",
    "# print(reg.coef_*100+reg.intercept_)\n",
    "print('A house with 100 m2 can be rent for € %i' % reg.predict(100))"
   ]
  },
  {
   "cell_type": "code",
   "execution_count": 10,
   "metadata": {},
   "outputs": [
    {
     "data": {
      "text/plain": [
       "[<matplotlib.lines.Line2D at 0x1a1c1aa7b8>]"
      ]
     },
     "execution_count": 10,
     "metadata": {},
     "output_type": "execute_result"
    },
    {
     "data": {
      "image/png": "[encoded data removed]",
      "text/plain": [
       "<Figure size 432x288 with 1 Axes>"
      ]
     },
     "metadata": {},
     "output_type": "display_data"
    }
   ],
   "source": [
    "# Ploting all price prediction according area training data\n",
    "plt.xlabel('area (m2)', fontsize=20)\n",
    "plt.ylabel('price(€)', fontsize=20)\n",
    "plt.scatter(training_data.area, training_data.price, color='red', marker='+')\n",
    "plt.plot(training_data.area, reg.predict(training_data[['area']]), color='blue')\n"
   ]
  },
  {
   "cell_type": "code",
   "execution_count": 12,
   "metadata": {},
   "outputs": [
    {
     "name": "stdout",
     "output_type": "stream",
     "text": [
      "Houses between 100 and 200 m2 can be rent for:\n",
      "   area        price\n",
      "0   100  1956.360247\n",
      "1   150  2397.878087\n",
      "2   200  2839.395926\n"
     ]
    }
   ],
   "source": [
    "# After trained, make prediction...\n",
    "\n",
    "print('Houses between 100 and 200 m2 can be rent for:')\n",
    "prediction_data = pd.DataFrame([\n",
    "    [100], \n",
    "    [150], \n",
    "    [200]\n",
    "], columns=['area'])\n",
    "prediction_data['price'] = reg.predict(prediction_data)\n",
    "print(prediction_data)\n"
   ]
  }
 ],
 "metadata": {
  "kernelspec": {
   "display_name": "Python 3",
   "language": "python",
   "name": "python3"
  },
  "language_info": {
   "codemirror_mode": {
    "name": "ipython",
    "version": 3
   },
   "file_extension": ".py",
   "mimetype": "text/x-python",
   "name": "python",
   "nbconvert_exporter": "python",
   "pygments_lexer": "ipython3",
   "version": "3.6.5"
  }
 },
 "nbformat": 4,
 "nbformat_minor": 2
}
